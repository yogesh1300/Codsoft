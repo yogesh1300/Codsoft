{
  "nbformat": 4,
  "nbformat_minor": 0,
  "metadata": {
    "colab": {
      "provenance": [],
      "authorship_tag": "ABX9TyN0gE0j3qF4GC8VK4e8etN3",
      "include_colab_link": true
    },
    "kernelspec": {
      "name": "python3",
      "display_name": "Python 3"
    },
    "language_info": {
      "name": "python"
    }
  },
  "cells": [
    {
      "cell_type": "markdown",
      "metadata": {
        "id": "view-in-github",
        "colab_type": "text"
      },
      "source": [
        "<a href=\"https://colab.research.google.com/github/yogesh1300/Codsoft/blob/main/IRIS_FLOWER_CLASSIFICATION.ipynb\" target=\"_parent\"><img src=\"https://colab.research.google.com/assets/colab-badge.svg\" alt=\"Open In Colab\"/></a>"
      ]
    },
    {
      "cell_type": "code",
      "execution_count": null,
      "metadata": {
        "id": "s05kfEu1bg_m"
      },
      "outputs": [],
      "source": []
    },
    {
      "cell_type": "code",
      "source": [],
      "metadata": {
        "id": "LEzjGQV9crB5"
      },
      "execution_count": null,
      "outputs": []
    },
    {
      "cell_type": "code",
      "source": [],
      "metadata": {
        "id": "idqIcGvp2qG6"
      },
      "execution_count": null,
      "outputs": []
    },
    {
      "cell_type": "code",
      "source": [
        "#  My  ML project - Iris Classification)\n",
        "\n",
        "# Step 1: Importing basic libraries (must-do for ML)\n",
        "import pandas as pd\n",
        "import numpy as np\n",
        "import matplotlib.pyplot as plt\n",
        "\n",
        "# Step 2: Loading the dataset (uploaded in Colab)\n",
        "data = pd.read_csv('/content/IRIS.csv')  # path will work in Colab directly\n",
        "print(\" Dataset Loaded Successfully!\")\n",
        "\n",
        "# Step 3: Checking what the data looks like\n",
        "print(\"Top 5 Rows:\")\n",
        "print(data.head())\n",
        "\n",
        "print(\"\\n Data Shape:\")\n",
        "print(data.shape)\n",
        "\n",
        "# Step 4: Checking for missing values (I saw this step in a tutorial!)\n",
        "print(\"\\n Checking missing values:\")\n",
        "print(data.isnull().sum())\n",
        "\n",
        "# Step 5: Convert species into numbers using manual mapping\n",
        "# (Didn't understand LabelEncoder so used this method)\n",
        "species_map = {'Iris-setosa': 0, 'Iris-versicolor': 1, 'Iris-virginica': 2}\n",
        "data['species'] = data['species'].map(species_map)\n",
        "\n",
        "# Step 6: Split the data manually (Train/Test) 80/20\n",
        "from sklearn.model_selection import train_test_split\n",
        "X = data.drop('species', axis=1)\n",
        "y = data['species']\n",
        "X_train, X_test, y_train, y_test = train_test_split(X, y, test_size=0.2, random_state=5)\n",
        "\n",
        "print(\"\\n Data Splitting Done!\")\n",
        "\n",
        "# Step 7: Using DecisionTreeClassifier (tried logistic but I liked tree better)\n",
        "from sklearn.tree import DecisionTreeClassifier\n",
        "model = DecisionTreeClassifier()\n",
        "\n",
        "# Step 8: Train the model\n",
        "model.fit(X_train, y_train)\n",
        "print(\"\\n Model Trained!\")\n",
        "\n",
        "# Step 9: Predict on test data\n",
        "predictions = model.predict(X_test)\n",
        "print(\" Predictions Done!\")\n",
        "\n",
        "# Step 10: Check accuracy\n",
        "from sklearn.metrics import accuracy_score\n",
        "acc = accuracy_score(y_test, predictions)\n",
        "print(f\"\\n Accuracy of the model is: {acc * 100:.2f}%\")\n",
        "\n",
        "# Step 11: Plotting feature importance (saw this in a reel, looked cool 😎)\n",
        "features = X.columns\n",
        "importances = model.feature_importances_\n",
        "\n",
        "plt.bar(features, importances, color='skyblue')\n",
        "plt.title(\" Feature Importance\")\n",
        "plt.xlabel(\"Features\")\n",
        "plt.ylabel(\"Importance Score\")\n",
        "plt.xticks(rotation=45)\n",
        "plt.show()\n",
        "\n",
        "# Step 12: Done\n",
        "print(\"\\n IRIS Classification Completed Successfully!\")"
      ],
      "metadata": {
        "colab": {
          "base_uri": "https://localhost:8080/",
          "height": 1000
        },
        "id": "N2VxU_LScw4H",
        "outputId": "65f3e0f8-e9e4-4b28-d433-c3ab951cdb52"
      },
      "execution_count": null,
      "outputs": [
        {
          "output_type": "stream",
          "name": "stdout",
          "text": [
            "✅ Dataset Loaded Successfully!\n",
            "📝 Top 5 Rows:\n",
            "   sepal_length  sepal_width  petal_length  petal_width      species\n",
            "0           5.1          3.5           1.4          0.2  Iris-setosa\n",
            "1           4.9          3.0           1.4          0.2  Iris-setosa\n",
            "2           4.7          3.2           1.3          0.2  Iris-setosa\n",
            "3           4.6          3.1           1.5          0.2  Iris-setosa\n",
            "4           5.0          3.6           1.4          0.2  Iris-setosa\n",
            "\n",
            "📏 Data Shape:\n",
            "(150, 5)\n",
            "\n",
            "🔍 Checking missing values:\n",
            "sepal_length    0\n",
            "sepal_width     0\n",
            "petal_length    0\n",
            "petal_width     0\n",
            "species         0\n",
            "dtype: int64\n",
            "\n",
            "📦 Data Splitting Done!\n",
            "\n",
            "🚀 Model Trained!\n",
            "🔮 Predictions Done!\n",
            "\n",
            "🎯 Accuracy of the model is: 93.33%\n"
          ]
        },
        {
          "output_type": "stream",
          "name": "stderr",
          "text": [
            "/usr/local/lib/python3.11/dist-packages/IPython/core/pylabtools.py:151: UserWarning: Glyph 128202 (\\N{BAR CHART}) missing from font(s) DejaVu Sans.\n",
            "  fig.canvas.print_figure(bytes_io, **kw)\n"
          ]
        },
        {
          "output_type": "display_data",
          "data": {
            "text/plain": [
              "<Figure size 640x480 with 1 Axes>"
            ],
            "image/png": "[encoded data removed]"
          },
          "metadata": {}
        },
        {
          "output_type": "stream",
          "name": "stdout",
          "text": [
            "\n",
            "✅ IRIS Classification Completed Successfully!\n"
          ]
        }
      ]
    }
  ]
}